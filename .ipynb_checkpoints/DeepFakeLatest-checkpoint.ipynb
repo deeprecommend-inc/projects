{
 "cells": [
  {
   "cell_type": "code",
   "execution_count": 2,
   "id": "6ce53fdd",
   "metadata": {},
   "outputs": [
    {
     "name": "stdout",
     "output_type": "stream",
     "text": [
      "fatal: destination path 'sber-swap' already exists and is not an empty directory.\r\n"
     ]
    }
   ],
   "source": [
    "!git clone https://github.com/sberbank-ai/sber-swap.git\n",
    "!cd sber-swap\n",
    "!git submodule init\n",
    "!git submodule update"
   ]
  }
 ],
 "metadata": {
  "kernelspec": {
   "display_name": "Python 3 (ipykernel)",
   "language": "python",
   "name": "python3"
  },
  "language_info": {
   "codemirror_mode": {
    "name": "ipython",
    "version": 3
   },
   "file_extension": ".py",
   "mimetype": "text/x-python",
   "name": "python",
   "nbconvert_exporter": "python",
   "pygments_lexer": "ipython3",
   "version": "3.10.6"
  }
 },
 "nbformat": 4,
 "nbformat_minor": 5
}
