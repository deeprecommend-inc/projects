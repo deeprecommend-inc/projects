{
 "cells": [
  {
   "cell_type": "code",
   "execution_count": 21,
   "id": "c8000c98",
   "metadata": {},
   "outputs": [
    {
     "name": "stdout",
     "output_type": "stream",
     "text": [
      "Requirement already satisfied: pip in /usr/local/lib/python3.10/dist-packages (24.0)\n",
      "\u001b[33mDEPRECATION: distro-info 1.1build1 has a non-standard version number. pip 24.1 will enforce this behaviour change. A possible replacement is to upgrade to a newer version of distro-info or contact the author to suggest that they release a version with a conforming version number. Discussion can be found at https://github.com/pypa/pip/issues/12063\u001b[0m\u001b[33m\n",
      "\u001b[0m\u001b[33mWARNING: Running pip as the 'root' user can result in broken permissions and conflicting behaviour with the system package manager. It is recommended to use a virtual environment instead: https://pip.pypa.io/warnings/venv\u001b[0m\u001b[33m\n",
      "\u001b[0mRequirement already satisfied: cuquantum-python in /usr/local/lib/python3.10/dist-packages (23.10.0)\n",
      "Requirement already satisfied: cupy-cuda11x in /usr/local/lib/python3.10/dist-packages (from cuquantum-python) (13.0.0)\n",
      "Requirement already satisfied: cuquantum-python-cu11==23.10.0 in /usr/local/lib/python3.10/dist-packages (from cuquantum-python) (23.10.0)\n",
      "Requirement already satisfied: numpy~=1.21 in /usr/local/lib/python3.10/dist-packages (from cuquantum-python-cu11==23.10.0->cuquantum-python) (1.24.0)\n",
      "Requirement already satisfied: custatevec-cu11~=1.5 in /usr/local/lib/python3.10/dist-packages (from cuquantum-python-cu11==23.10.0->cuquantum-python) (1.5.0)\n",
      "Requirement already satisfied: cutensornet-cu11~=2.3 in /usr/local/lib/python3.10/dist-packages (from cuquantum-python-cu11==23.10.0->cuquantum-python) (2.3.0)\n",
      "Requirement already satisfied: fastrlock>=0.5 in /usr/local/lib/python3.10/dist-packages (from cupy-cuda11x->cuquantum-python) (0.8.2)\n",
      "Requirement already satisfied: cutensor-cu11<2,>=1.6.1 in /usr/local/lib/python3.10/dist-packages (from cutensornet-cu11~=2.3->cuquantum-python-cu11==23.10.0->cuquantum-python) (1.7.0)\n",
      "\u001b[33mDEPRECATION: distro-info 1.1build1 has a non-standard version number. pip 24.1 will enforce this behaviour change. A possible replacement is to upgrade to a newer version of distro-info or contact the author to suggest that they release a version with a conforming version number. Discussion can be found at https://github.com/pypa/pip/issues/12063\u001b[0m\u001b[33m\n",
      "\u001b[0m\u001b[33mWARNING: Running pip as the 'root' user can result in broken permissions and conflicting behaviour with the system package manager. It is recommended to use a virtual environment instead: https://pip.pypa.io/warnings/venv\u001b[0m\u001b[33m\n",
      "\u001b[0mRequirement already satisfied: nvidia-cusparse-cu12 in /usr/local/lib/python3.10/dist-packages (12.3.0.142)\n",
      "Requirement already satisfied: nvidia-cublas-cu12 in /usr/local/lib/python3.10/dist-packages (12.4.2.65)\n",
      "Requirement already satisfied: nvidia-cuda-runtime-cu12 in /usr/local/lib/python3.10/dist-packages (12.4.99)\n",
      "Requirement already satisfied: custatevec_cu12 in /usr/local/lib/python3.10/dist-packages (1.5.0)\n",
      "Requirement already satisfied: nvidia-nvjitlink-cu12 in /usr/local/lib/python3.10/dist-packages (from nvidia-cusparse-cu12) (12.4.99)\n",
      "\u001b[33mDEPRECATION: distro-info 1.1build1 has a non-standard version number. pip 24.1 will enforce this behaviour change. A possible replacement is to upgrade to a newer version of distro-info or contact the author to suggest that they release a version with a conforming version number. Discussion can be found at https://github.com/pypa/pip/issues/12063\u001b[0m\u001b[33m\n",
      "\u001b[0m\u001b[33mWARNING: Running pip as the 'root' user can result in broken permissions and conflicting behaviour with the system package manager. It is recommended to use a virtual environment instead: https://pip.pypa.io/warnings/venv\u001b[0m\u001b[33m\n",
      "\u001b[0mRequirement already satisfied: pennylane in /usr/local/lib/python3.10/dist-packages (0.35.1)\n",
      "Requirement already satisfied: pennylane-lightning-gpu in /usr/local/lib/python3.10/dist-packages (0.35.1)\n",
      "Requirement already satisfied: numpy in /usr/local/lib/python3.10/dist-packages (from pennylane) (1.24.0)\n",
      "Requirement already satisfied: scipy in /usr/lib/python3/dist-packages (from pennylane) (1.8.0)\n",
      "Requirement already satisfied: networkx in /usr/local/lib/python3.10/dist-packages (from pennylane) (3.1)\n",
      "Requirement already satisfied: rustworkx in /usr/local/lib/python3.10/dist-packages (from pennylane) (0.14.2)\n",
      "Requirement already satisfied: autograd in /usr/local/lib/python3.10/dist-packages (from pennylane) (1.6.2)\n",
      "Requirement already satisfied: toml in /usr/local/lib/python3.10/dist-packages (from pennylane) (0.10.2)\n",
      "Requirement already satisfied: appdirs in /usr/lib/python3/dist-packages (from pennylane) (1.4.4)\n",
      "Requirement already satisfied: semantic-version>=2.7 in /usr/local/lib/python3.10/dist-packages (from pennylane) (2.10.0)\n",
      "Requirement already satisfied: autoray>=0.6.1 in /usr/local/lib/python3.10/dist-packages (from pennylane) (0.6.9)\n",
      "Requirement already satisfied: cachetools in /usr/local/lib/python3.10/dist-packages (from pennylane) (5.3.3)\n",
      "Requirement already satisfied: pennylane-lightning>=0.35 in /usr/local/lib/python3.10/dist-packages (from pennylane) (0.35.1)\n",
      "Requirement already satisfied: requests in /usr/local/lib/python3.10/dist-packages (from pennylane) (2.31.0)\n",
      "Requirement already satisfied: typing-extensions in /usr/local/lib/python3.10/dist-packages (from pennylane) (4.7.1)\n",
      "Requirement already satisfied: future>=0.15.2 in /usr/local/lib/python3.10/dist-packages (from autograd->pennylane) (1.0.0)\n",
      "Requirement already satisfied: charset-normalizer<4,>=2 in /usr/local/lib/python3.10/dist-packages (from requests->pennylane) (3.2.0)\n",
      "Requirement already satisfied: idna<4,>=2.5 in /usr/local/lib/python3.10/dist-packages (from requests->pennylane) (3.4)\n",
      "Requirement already satisfied: urllib3<3,>=1.21.1 in /usr/local/lib/python3.10/dist-packages (from requests->pennylane) (2.0.4)\n",
      "Requirement already satisfied: certifi>=2017.4.17 in /usr/local/lib/python3.10/dist-packages (from requests->pennylane) (2023.7.22)\n",
      "\u001b[33mDEPRECATION: distro-info 1.1build1 has a non-standard version number. pip 24.1 will enforce this behaviour change. A possible replacement is to upgrade to a newer version of distro-info or contact the author to suggest that they release a version with a conforming version number. Discussion can be found at https://github.com/pypa/pip/issues/12063\u001b[0m\u001b[33m\n",
      "\u001b[0m\u001b[33mWARNING: Running pip as the 'root' user can result in broken permissions and conflicting behaviour with the system package manager. It is recommended to use a virtual environment instead: https://pip.pypa.io/warnings/venv\u001b[0m\u001b[33m\n",
      "\u001b[0m"
     ]
    }
   ],
   "source": [
    "!pip install --upgrade pip\n",
    "!pip install cuquantum-python\n",
    "!pip install nvidia-cusparse-cu12 nvidia-cublas-cu12 nvidia-cuda-runtime-cu12 custatevec_cu12\n",
    "!pip install pennylane pennylane-lightning-gpu"
   ]
  },
  {
   "cell_type": "code",
   "execution_count": 22,
   "id": "e8d79e95",
   "metadata": {},
   "outputs": [
    {
     "ename": "ModuleNotFoundError",
     "evalue": "No module named 'pennylane.optimization'",
     "output_type": "error",
     "traceback": [
      "\u001b[0;31m---------------------------------------------------------------------------\u001b[0m",
      "\u001b[0;31mModuleNotFoundError\u001b[0m                       Traceback (most recent call last)",
      "\u001b[0;32m/tmp/ipykernel_31239/3625967008.py\u001b[0m in \u001b[0;36m<module>\u001b[0;34m\u001b[0m\n\u001b[1;32m      1\u001b[0m \u001b[0;32mimport\u001b[0m \u001b[0mpennylane\u001b[0m \u001b[0;32mas\u001b[0m \u001b[0mqml\u001b[0m\u001b[0;34m\u001b[0m\u001b[0;34m\u001b[0m\u001b[0m\n\u001b[0;32m----> 2\u001b[0;31m \u001b[0;32mfrom\u001b[0m \u001b[0mpennylane\u001b[0m\u001b[0;34m.\u001b[0m\u001b[0moptimization\u001b[0m \u001b[0;32mimport\u001b[0m \u001b[0mmax_cut\u001b[0m\u001b[0;34m\u001b[0m\u001b[0;34m\u001b[0m\u001b[0m\n\u001b[0m\u001b[1;32m      3\u001b[0m \u001b[0;32mimport\u001b[0m \u001b[0mcuquantum\u001b[0m\u001b[0;34m\u001b[0m\u001b[0;34m\u001b[0m\u001b[0m\n\u001b[1;32m      4\u001b[0m \u001b[0;32mimport\u001b[0m \u001b[0mnetworkx\u001b[0m \u001b[0;32mas\u001b[0m \u001b[0mnx\u001b[0m\u001b[0;34m\u001b[0m\u001b[0;34m\u001b[0m\u001b[0m\n\u001b[1;32m      5\u001b[0m \u001b[0;32mimport\u001b[0m \u001b[0mnumpy\u001b[0m \u001b[0;32mas\u001b[0m \u001b[0mnp\u001b[0m\u001b[0;34m\u001b[0m\u001b[0;34m\u001b[0m\u001b[0m\n",
      "\u001b[0;31mModuleNotFoundError\u001b[0m: No module named 'pennylane.optimization'"
     ]
    }
   ],
   "source": [
    "import pennylane as qml\n",
    "from pennylane.optimization import max_cut\n",
    "import cuquantum\n",
    "import networkx as nx\n",
    "import numpy as np\n",
    "\n",
    "# グラフの定義\n",
    "graph = nx.Graph()\n",
    "graph.add_edge(0, 1)\n",
    "graph.add_edge(1, 2)\n",
    "graph.add_edge(2, 0)\n",
    "\n",
    "# コスト関数の定義\n",
    "cost_h, mixer_h = qaoa.max_cut(graph)\n",
    "\n",
    "# デバイスの定義（cuQuantumを使用）\n",
    "dev = qml.device('cuquantum.qubit', wires=range(3), shots=1024)\n",
    "\n",
    "# QAOAの回路を定義\n",
    "def qaoa_layer(gamma, alpha):\n",
    "    qaoa.cost_layer(gamma, cost_h)\n",
    "    qaoa.mixer_layer(alpha, mixer_h)\n",
    "\n",
    "def circuit(params, **kwargs):\n",
    "    for i in range(3):\n",
    "        qml.Hadamard(wires=i)\n",
    "    \n",
    "    qml.layer(qaoa_layer, 2, params[0], params[1])\n",
    "\n",
    "# コスト関数を計算する関数を定義\n",
    "cost_function = qml.ExpvalCost(circuit, cost_h, dev)\n",
    "\n",
    "# オプティマイザーの定義\n",
    "opt = qml.GradientDescentOptimizer(stepsize=0.1)\n",
    "\n",
    "# 初期パラメータの定義\n",
    "params = np.array([[0.5, 0.5], [0.5, 0.5]], requires_grad=True)\n",
    "\n",
    "# オプティマイゼーションのループ\n",
    "for i in range(30):\n",
    "    params = opt.step(cost_function, params)\n",
    "    if (i + 1) % 5 == 0:\n",
    "        print(f\"Step {i + 1}: cost = {cost_function(params):.3f}\")\n",
    "\n",
    "# 最適化されたパラメータを使って回路を実行\n",
    "samples = qml.sample(circuit, params, obs=qml.PauliZ)\n",
    "\n",
    "# 結果を表示\n",
    "print(f\"Optimized parameters: {params}\")\n",
    "print(f\"Samples: {samples}\")\n",
    "print(f\"Cost: {cost_function(params):.3f}\")"
   ]
  }
 ],
 "metadata": {
  "kernelspec": {
   "display_name": "Python 3 (ipykernel)",
   "language": "python",
   "name": "python3"
  },
  "language_info": {
   "codemirror_mode": {
    "name": "ipython",
    "version": 3
   },
   "file_extension": ".py",
   "mimetype": "text/x-python",
   "name": "python",
   "nbconvert_exporter": "python",
   "pygments_lexer": "ipython3",
   "version": "3.10.6"
  }
 },
 "nbformat": 4,
 "nbformat_minor": 5
}
